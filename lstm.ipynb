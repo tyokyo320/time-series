{
 "cells": [
  {
   "cell_type": "markdown",
   "metadata": {},
   "source": [
    "## Library"
   ]
  },
  {
   "cell_type": "code",
   "execution_count": 185,
   "metadata": {},
   "outputs": [],
   "source": [
    "import torch\n",
    "import torch.nn as nn\n",
    "\n",
    "import numpy as np\n",
    "import pandas as pd\n",
    "import matplotlib.pyplot as plt\n",
    "from sklearn.preprocessing import MinMaxScaler\n",
    "%matplotlib inline"
   ]
  },
  {
   "cell_type": "markdown",
   "metadata": {},
   "source": [
    "## Dataset"
   ]
  },
  {
   "cell_type": "code",
   "execution_count": 186,
   "metadata": {},
   "outputs": [
    {
     "data": {
      "text/html": [
       "<div>\n",
       "<style scoped>\n",
       "    .dataframe tbody tr th:only-of-type {\n",
       "        vertical-align: middle;\n",
       "    }\n",
       "\n",
       "    .dataframe tbody tr th {\n",
       "        vertical-align: top;\n",
       "    }\n",
       "\n",
       "    .dataframe thead th {\n",
       "        text-align: right;\n",
       "    }\n",
       "</style>\n",
       "<table border=\"1\" class=\"dataframe\">\n",
       "  <thead>\n",
       "    <tr style=\"text-align: right;\">\n",
       "      <th></th>\n",
       "      <th>Date</th>\n",
       "      <th>N_Y_C_</th>\n",
       "    </tr>\n",
       "  </thead>\n",
       "  <tbody>\n",
       "    <tr>\n",
       "      <th>0</th>\n",
       "      <td>05/01/2007 00:00:00</td>\n",
       "      <td>4854.400000</td>\n",
       "    </tr>\n",
       "    <tr>\n",
       "      <th>1</th>\n",
       "      <td>05/01/2007 00:15:00</td>\n",
       "      <td>4777.370779</td>\n",
       "    </tr>\n",
       "    <tr>\n",
       "      <th>2</th>\n",
       "      <td>05/01/2007 00:30:00</td>\n",
       "      <td>4729.483400</td>\n",
       "    </tr>\n",
       "    <tr>\n",
       "      <th>3</th>\n",
       "      <td>05/01/2007 00:45:00</td>\n",
       "      <td>4682.387550</td>\n",
       "    </tr>\n",
       "    <tr>\n",
       "      <th>4</th>\n",
       "      <td>05/01/2007 01:00:00</td>\n",
       "      <td>4587.337550</td>\n",
       "    </tr>\n",
       "  </tbody>\n",
       "</table>\n",
       "</div>"
      ],
      "text/plain": [
       "                  Date       N_Y_C_\n",
       "0  05/01/2007 00:00:00  4854.400000\n",
       "1  05/01/2007 00:15:00  4777.370779\n",
       "2  05/01/2007 00:30:00  4729.483400\n",
       "3  05/01/2007 00:45:00  4682.387550\n",
       "4  05/01/2007 01:00:00  4587.337550"
      ]
     },
     "execution_count": 186,
     "metadata": {},
     "output_type": "execute_result"
    }
   ],
   "source": [
    "df = pd.read_csv('data/LoadData.csv')\n",
    "df.head()"
   ]
  },
  {
   "cell_type": "code",
   "execution_count": 187,
   "metadata": {},
   "outputs": [
    {
     "name": "stdout",
     "output_type": "stream",
     "text": [
      "                 N_Y_C_\n",
      "Timestamp              \n",
      "2007-05-01  5666.252902\n",
      "2007-05-02  5666.180415\n",
      "2007-05-03  5662.574479\n",
      "2007-05-04  5615.351488\n",
      "2007-05-05  5032.153638\n",
      "...                 ...\n",
      "2019-02-24  5144.902344\n",
      "2019-02-25  5790.148177\n",
      "2019-02-26  6000.704688\n",
      "2019-02-27  6114.133594\n",
      "2019-02-28  5978.750781\n",
      "\n",
      "[4322 rows x 1 columns]\n"
     ]
    }
   ],
   "source": [
    "# Aggregating the dataset at daily level\n",
    "df['Timestamp'] = pd.to_datetime(df['Date'], format='%m/%d/%Y %H:%M:%S')\n",
    "df.index = df['Timestamp']\n",
    "df = df.resample('D').mean()\n",
    "print(df)"
   ]
  },
  {
   "cell_type": "code",
   "execution_count": 188,
   "metadata": {},
   "outputs": [
    {
     "data": {
      "text/plain": [
       "[<matplotlib.lines.Line2D at 0x7f3d3787b1c0>]"
      ]
     },
     "execution_count": 188,
     "metadata": {},
     "output_type": "execute_result"
    },
    {
     "data": {
      "image/png": "[encoded data removed]",
      "text/plain": [
       "<Figure size 432x288 with 1 Axes>"
      ]
     },
     "metadata": {
      "needs_background": "light"
     },
     "output_type": "display_data"
    }
   ],
   "source": [
    "plt.title('Days vs Electricity Consumption')\n",
    "plt.ylabel('Electricity Consumption')\n",
    "plt.xlabel('Days')\n",
    "plt.grid(True)\n",
    "plt.autoscale(axis='x',tight=True)\n",
    "plt.plot(df['N_Y_C_'])"
   ]
  },
  {
   "cell_type": "code",
   "execution_count": 189,
   "metadata": {},
   "outputs": [
    {
     "name": "stdout",
     "output_type": "stream",
     "text": [
      "[5666.25290174 5666.18041492 5662.57447917 ... 6000.7046875  6114.13359375\n",
      " 5978.75078125]\n"
     ]
    }
   ],
   "source": [
    "all_data = df['N_Y_C_'].values.astype(float)\n",
    "print(all_data)"
   ]
  },
  {
   "cell_type": "code",
   "execution_count": 190,
   "metadata": {},
   "outputs": [
    {
     "name": "stdout",
     "output_type": "stream",
     "text": [
      "4322\n",
      "4291\n",
      "4291\n",
      "2874\n",
      "1417\n"
     ]
    }
   ],
   "source": [
    "def sliding_windows(data, seq_length):\n",
    "    '''\n",
    "    window, label\n",
    "    这个函数的目的是为了从原时间序列中抽取出训练样本，也就是用第1个值到第4个值作为X输入，预测第5个值作为y输出，\n",
    "    这是一个用于训练的数据点，时间窗口向后滑动以此类推\n",
    "    seq_length: 次の時間区間を予測するために入力変数として使用する前の時間ステップの数\n",
    "    X(t) Y(t + seq_length)\n",
    "    '''\n",
    "\n",
    "    x = []\n",
    "    y = []\n",
    "    for i in range(len(data)-seq_length-1):\n",
    "        _x = data[i:(i+seq_length)]\n",
    "        _y = data[i+seq_length]\n",
    "        x.append(_x)\n",
    "        y.append(_y)\n",
    "\n",
    "    return np.array(x), np.array(y)\n",
    "\n",
    "# Min/max进行标准化处理，默认范围0-1\n",
    "sc = MinMaxScaler()\n",
    "# 通过 fit_transform() 对数据集进行归一化\n",
    "training_data = sc.fit_transform(all_data.reshape(-1, 1))\n",
    "print(len(training_data))\n",
    "\n",
    "# 分割序列窗口，实验表明越小可以学到更多细节\n",
    "seq_length = 30\n",
    "x, y = sliding_windows(training_data, seq_length)\n",
    "print(len(x))\n",
    "print(len(y))\n",
    "\n",
    "train_size = int(len(y) * 0.67)\n",
    "test_size = len(y) - train_size\n",
    "print(train_size)\n",
    "print(test_size)\n",
    "\n",
    "\n",
    "# 转换成 tensor\n",
    "dataX = torch.Tensor(np.array(x)).float()\n",
    "dataY = torch.Tensor(np.array(y)).float()\n",
    "\n",
    "trainX = torch.tensor(np.array(x[0:train_size])).float()\n",
    "trainY = torch.tensor(np.array(y[0:train_size])).float()\n",
    "\n",
    "testX = torch.Tensor(np.array(x[train_size:len(x)])).float()\n",
    "testY = torch.Tensor(np.array(y[train_size:len(y)])).float()"
   ]
  },
  {
   "cell_type": "markdown",
   "metadata": {},
   "source": [
    "## Model"
   ]
  },
  {
   "cell_type": "code",
   "execution_count": 191,
   "metadata": {},
   "outputs": [],
   "source": [
    "class LSTMnetwork(nn.Module):\n",
    "    '''\n",
    "    https://pytorch.org/docs/stable/generated/torch.nn.LSTM.html?highlight=lstm#torch.nn.LSTM\n",
    "    \n",
    "    input_size: 输入数据的大小，也就是前面例子中每个单词向量的长度\n",
    "    hidden_size: 隐藏层的大小（即隐藏层节点数量），输出向量的维度等于隐藏节点数\n",
    "    num_layers: recurrent layer的数量，默认等于1\n",
    "    bias: If False, then the layer does not use bias weights b_ih and b_hh\n",
    "    batch_first: 默认为False，也就是说官方不推荐我们把batch放在第一维，这个与之前常见的CNN输入有点不同，此时输入输出的各个维度含义为 (seq_length,batch,feature)\n",
    "    dropout: 如果非0，就在除了最后一层的其它层都插入Dropout层，默认为0\n",
    "    bidirectional: 如果设置为 True, 则表示双向 LSTM，默认为 False\n",
    "    '''\n",
    "\n",
    "\n",
    "    def __init__(self, input_size, hidden_size, num_layers, num_classes):\n",
    "        super(LSTMnetwork, self).__init__()\n",
    "        self.hidden_size = hidden_size\n",
    "        self.num_layers = num_layers\n",
    "        # 定义LSTM层\n",
    "        self.lstm = nn.LSTM(input_size, hidden_size, num_layers, batch_first = True)\n",
    "        # 定义全连接层 num_classes(output_size)\n",
    "        self.fc = nn.Linear(hidden_size, num_classes)\n",
    "    \n",
    "    def forward(self, x):\n",
    "        '''\n",
    "        前向传播的过程是输入 -> LSTM层 -> 全连接层 -> 输出\n",
    "        在观察查看LSTM输入的维度，LSTM的第一个输入input_size维度是(L, N, H_in), L是序列长度，N是batch size，H_in是输入尺寸，也就是变量个数\n",
    "        LSTM的第二个输入是一个元组，包含了h0,c0两个元素，这两个元素的维度都是（D∗num_layers,N,H_out)，D=1表示单向网络，num_layers表示多少个LSTM层叠加，N是batch size，H_out表示隐层神经元个数\n",
    "        '''\n",
    "        h0 = torch.zeros(self.num_layers, x.size(0), self.hidden_size)\n",
    "        c0 = torch.zeros(self.num_layers, x.size(0), self.hidden_size)\n",
    "        # Propagate input through LSTM\n",
    "        out, (h_n, h_c) = self.lstm(x, (h0, c0))\n",
    "        # 输出只用取最后一个值\n",
    "        out = self.fc(out[:, -1, :])\n",
    "        \n",
    "        return out "
   ]
  },
  {
   "cell_type": "markdown",
   "metadata": {},
   "source": [
    "## Training"
   ]
  },
  {
   "cell_type": "code",
   "execution_count": 192,
   "metadata": {},
   "outputs": [
    {
     "name": "stdout",
     "output_type": "stream",
     "text": [
      "Epoch: [0/2000], loss: 0.2131\n",
      "Epoch: [100/2000], loss: 0.0079\n",
      "Epoch: [200/2000], loss: 0.0074\n",
      "Epoch: [300/2000], loss: 0.0069\n",
      "Epoch: [400/2000], loss: 0.0063\n",
      "Epoch: [500/2000], loss: 0.0056\n",
      "Epoch: [600/2000], loss: 0.0049\n",
      "Epoch: [700/2000], loss: 0.0045\n",
      "Epoch: [800/2000], loss: 0.0043\n",
      "Epoch: [900/2000], loss: 0.0042\n",
      "Epoch: [1000/2000], loss: 0.0042\n",
      "Epoch: [1100/2000], loss: 0.0042\n",
      "Epoch: [1200/2000], loss: 0.0041\n",
      "Epoch: [1300/2000], loss: 0.0041\n",
      "Epoch: [1400/2000], loss: 0.0041\n",
      "Epoch: [1500/2000], loss: 0.0041\n",
      "Epoch: [1600/2000], loss: 0.0041\n",
      "Epoch: [1700/2000], loss: 0.0041\n",
      "Epoch: [1800/2000], loss: 0.0040\n",
      "Epoch: [1900/2000], loss: 0.0040\n"
     ]
    }
   ],
   "source": [
    "# 确定网络学习数据快慢，即权重的更新频率\n",
    "# 1 Epoch = 1 Forward pass + 1 Backward pass for ALL training samples.\n",
    "epochs = 2000\n",
    "# x 的特征维度\n",
    "input_size = 1\n",
    "# 隐藏层的特征维度（一个LSTM内部中神经元的个数）\n",
    "hidden_size = 2 \n",
    "# lstm隐层的层数，默认为1\n",
    "num_layers = 1\n",
    "num_classes = 1\n",
    "learning_rate = 0.01\n",
    "\n",
    "# torch.manual_seed(1) \n",
    "\n",
    "model = LSTMnetwork(input_size, hidden_size, num_layers, num_classes)\n",
    "\n",
    "# 度量与优化定义 损失函数=用MSE 优化算法=用ADAM\n",
    "# mean-squared error for regression\n",
    "criterion = nn.MSELoss()\n",
    "optimizer = torch.optim.Adam(model.parameters(), lr=learning_rate)\n",
    "# optimizer = torch.optim.SGD(model.parameters(), lr=learning_rate)\n",
    "\n",
    "# Train the model\n",
    "for epoch in range(epochs):\n",
    "    outputs = model(trainX)\n",
    "    # obtain the loss function\n",
    "    loss = criterion(outputs, trainY)\n",
    "    \n",
    "    # 每次更新参数前都梯度归零和初始化\n",
    "    optimizer.zero_grad()\n",
    "    loss.backward()\n",
    "    optimizer.step()\n",
    "    \n",
    "    if epoch % 100 == 0:\n",
    "        print(\"Epoch: [{}/{}], loss: {:.4f}\"\n",
    "              .format(epoch, epochs, loss.item()))"
   ]
  },
  {
   "cell_type": "markdown",
   "metadata": {},
   "source": [
    "## Testing for electricity consumption dataset"
   ]
  },
  {
   "cell_type": "code",
   "execution_count": 193,
   "metadata": {},
   "outputs": [
    {
     "data": {
      "image/png": "[encoded data removed]",
      "text/plain": [
       "<Figure size 432x288 with 1 Axes>"
      ]
     },
     "metadata": {
      "needs_background": "light"
     },
     "output_type": "display_data"
    }
   ],
   "source": [
    "model.eval()\n",
    "with torch.no_grad():\n",
    "    test_predict = model(dataX)\n",
    "    data_predict = test_predict.data.numpy()\n",
    "    dataY_plot = dataY.data.numpy()\n",
    "\n",
    "    # 逆归一化还原真实值\n",
    "    data_predict = sc.inverse_transform(data_predict)\n",
    "    dataY_plot = sc.inverse_transform(dataY_plot)\n",
    "\n",
    "    \n",
    "plt.axvline(x=train_size, c='r', linestyle='--')\n",
    "plt.plot(dataY_plot)\n",
    "plt.plot(data_predict)\n",
    "plt.grid(True)\n",
    "plt.suptitle('Time-Series Prediction')\n",
    "plt.show()"
   ]
  }
 ],
 "metadata": {
  "interpreter": {
   "hash": "7a1657ec4b2ae621baeef06e844702cdbc227b10b4a6985c2ecae4b87f05959b"
  },
  "kernelspec": {
   "display_name": "Python 3.8.8 ('venv')",
   "language": "python",
   "name": "python3"
  },
  "language_info": {
   "codemirror_mode": {
    "name": "ipython",
    "version": 3
   },
   "file_extension": ".py",
   "mimetype": "text/x-python",
   "name": "python",
   "nbconvert_exporter": "python",
   "pygments_lexer": "ipython3",
   "version": "3.8.8"
  },
  "orig_nbformat": 4
 },
 "nbformat": 4,
 "nbformat_minor": 2
}
